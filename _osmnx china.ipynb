{
 "cells": [
  {
   "cell_type": "code",
   "execution_count": 35,
   "id": "naval-skating",
   "metadata": {},
   "outputs": [],
   "source": [
    "import networkx as nx\n",
    "import osmnx\n",
    "import time\n",
    "import geopandas as gpd\n",
    "import numpy as np\n",
    "import matplotlib.pyplot as plt\n",
    "import os\n",
    "import csv\n",
    "import graph_tool as gt\n",
    "import graph_tool.draw as gtd\n",
    "from tqdm import tqdm\n",
    "import pandas as pd"
   ]
  },
  {
   "cell_type": "code",
   "execution_count": 36,
   "id": "pretty-smile",
   "metadata": {},
   "outputs": [],
   "source": [
    "#adapt that to your computer\n",
    "\n",
    "folder_path = \"/Users/endingalaporte/Desktop/omnx_china\""
   ]
  },
  {
   "cell_type": "code",
   "execution_count": 37,
   "id": "foreign-difficulty",
   "metadata": {},
   "outputs": [],
   "source": [
    "# chinese_cities.txt to chinese_city_names.txt\n",
    "input_path = folder_path + \"/input\"\n",
    "output_path = folder_path + \"/output\"\n",
    "\n",
    "df = pd.read_csv(input_path + \"/chinese_cities.txt\",  encoding='utf-16', delimiter = \"\\t\")\n",
    "a = df[['Capital']].to_numpy().astype('U')\n",
    "np.savetxt(input_path + \"/chinese_city_names.txt\", a, fmt='%s')"
   ]
  },
  {
   "cell_type": "code",
   "execution_count": 38,
   "id": "productive-variety",
   "metadata": {
    "scrolled": false
   },
   "outputs": [],
   "source": [
    "# chinese_city_names.txt to list\n",
    "\n",
    "with open(input_path + '/chinese_city_names.txt', 'r') as f:\n",
    "    names = [line.strip() for line in f]\n",
    "\n",
    "#GET CHINA (and HONG KONG TO SELL MY REPORT to make them care)"
   ]
  },
  {
   "cell_type": "code",
   "execution_count": 39,
   "id": "eight-medium",
   "metadata": {},
   "outputs": [
    {
     "name": "stdout",
     "output_type": "stream",
     "text": [
      "1\n",
      "2\n",
      "3\n"
     ]
    }
   ],
   "source": [
    "for i in range(1,3+1):\n",
    "    print(i)"
   ]
  },
  {
   "cell_type": "code",
   "execution_count": 40,
   "id": "inside-plenty",
   "metadata": {},
   "outputs": [
    {
     "data": {
      "text/plain": [
       "[<networkx.classes.graph.Graph at 0x1b8c60c10>,\n",
       " <networkx.classes.graph.Graph at 0x1bbb20c40>,\n",
       " <networkx.classes.graph.Graph at 0x17d329eb0>,\n",
       " <networkx.classes.graph.Graph at 0x19588ca90>,\n",
       " <networkx.classes.graph.Graph at 0x194e70df0>,\n",
       " <networkx.classes.graph.Graph at 0x1ba023550>,\n",
       " <networkx.classes.graph.Graph at 0x1baebc340>,\n",
       " <networkx.classes.graph.Graph at 0x1b902af70>]"
      ]
     },
     "execution_count": 40,
     "metadata": {},
     "output_type": "execute_result"
    }
   ],
   "source": [
    "data"
   ]
  },
  {
   "cell_type": "code",
   "execution_count": 42,
   "id": "thick-boards",
   "metadata": {},
   "outputs": [
    {
     "data": {
      "text/plain": [
       "'Lhasa'"
      ]
     },
     "execution_count": 42,
     "metadata": {},
     "output_type": "execute_result"
    }
   ],
   "source": [
    "#tool for extracting single graph by hand \n",
    "s = time.time()\n",
    "i = 8\n",
    "city_name = names[i]\n",
    "city_name"
   ]
  },
  {
   "cell_type": "code",
   "execution_count": 43,
   "id": "dated-seating",
   "metadata": {},
   "outputs": [
    {
     "name": "stdout",
     "output_type": "stream",
     "text": [
      "duration= 143.67619013786316\n"
     ]
    }
   ],
   "source": [
    "G = osmnx.graph_from_place(city_name, network_type='all')\n",
    "G = nx.Graph(G)\n",
    "G = nx.relabel.convert_node_labels_to_integers(G)\n",
    "data.append(G)\n",
    "name = \"/edge_list_chinese_city\"+str(i)+\".txt\"\n",
    "nx.write_edgelist(data[i], output_path + name, data = False)\n",
    "\n",
    "print(\"duration=\", time.time()-s)\n"
   ]
  },
  {
   "cell_type": "code",
   "execution_count": 45,
   "id": "plain-ghost",
   "metadata": {
    "scrolled": true
   },
   "outputs": [
    {
     "data": {
      "text/plain": [
       "9"
      ]
     },
     "execution_count": 45,
     "metadata": {},
     "output_type": "execute_result"
    }
   ],
   "source": [
    "len(data)"
   ]
  },
  {
   "cell_type": "code",
   "execution_count": 46,
   "id": "plastic-assignment",
   "metadata": {},
   "outputs": [
    {
     "name": "stderr",
     "output_type": "stream",
     "text": [
      "  4%|▍         | 1/24 [03:03<1:10:26, 183.76s/it]"
     ]
    },
    {
     "name": "stdout",
     "output_type": "stream",
     "text": [
      "9 -th graph of size  20072 duration = 183 s\n"
     ]
    },
    {
     "name": "stderr",
     "output_type": "stream",
     "text": [
      "\r",
      "  8%|▊         | 2/24 [07:56<1:30:49, 247.69s/it]"
     ]
    },
    {
     "name": "stdout",
     "output_type": "stream",
     "text": [
      "10 -th graph of size  14197 duration = 476 s\n"
     ]
    },
    {
     "name": "stderr",
     "output_type": "stream",
     "text": [
      "\r",
      " 12%|█▎        | 3/24 [08:26<52:00, 148.61s/it]  "
     ]
    },
    {
     "name": "stdout",
     "output_type": "stream",
     "text": [
      "11 -th graph of size  10219 duration = 506 s\n"
     ]
    },
    {
     "name": "stderr",
     "output_type": "stream",
     "text": [
      "\r",
      " 17%|█▋        | 4/24 [09:20<36:58, 110.91s/it]"
     ]
    },
    {
     "name": "stdout",
     "output_type": "stream",
     "text": [
      "12 -th graph of size  15647 duration = 560 s\n"
     ]
    },
    {
     "name": "stderr",
     "output_type": "stream",
     "text": [
      "\r",
      " 21%|██        | 5/24 [11:24<36:42, 115.95s/it]"
     ]
    },
    {
     "name": "stdout",
     "output_type": "stream",
     "text": [
      "13 -th graph of size  5765 duration = 684 s\n"
     ]
    },
    {
     "name": "stderr",
     "output_type": "stream",
     "text": [
      "\r",
      " 25%|██▌       | 6/24 [14:54<44:20, 147.81s/it]"
     ]
    },
    {
     "name": "stdout",
     "output_type": "stream",
     "text": [
      "14 -th graph of size  75342 duration = 894 s\n"
     ]
    },
    {
     "name": "stderr",
     "output_type": "stream",
     "text": [
      "\r",
      " 29%|██▉       | 7/24 [22:27<1:10:09, 247.64s/it]"
     ]
    },
    {
     "name": "stdout",
     "output_type": "stream",
     "text": [
      "15 -th graph of size  106306 duration = 1347 s\n"
     ]
    },
    {
     "name": "stderr",
     "output_type": "stream",
     "text": [
      "\r",
      " 33%|███▎      | 8/24 [31:56<1:33:19, 349.97s/it]"
     ]
    },
    {
     "name": "stdout",
     "output_type": "stream",
     "text": [
      "16 -th graph of size  127641 duration = 1916 s\n"
     ]
    },
    {
     "name": "stderr",
     "output_type": "stream",
     "text": [
      "\r",
      " 38%|███▊      | 9/24 [1:09:09<3:54:37, 938.49s/it]"
     ]
    },
    {
     "name": "stdout",
     "output_type": "stream",
     "text": [
      "17 -th graph of size  108503 duration = 4149 s\n"
     ]
    },
    {
     "name": "stderr",
     "output_type": "stream",
     "text": [
      "\r",
      " 42%|████▏     | 10/24 [1:11:04<2:39:39, 684.24s/it]"
     ]
    },
    {
     "name": "stdout",
     "output_type": "stream",
     "text": [
      "18 -th graph of size  18520 duration = 4264 s\n"
     ]
    },
    {
     "name": "stderr",
     "output_type": "stream",
     "text": [
      "\r",
      " 46%|████▌     | 11/24 [1:13:55<1:54:15, 527.34s/it]"
     ]
    },
    {
     "name": "stdout",
     "output_type": "stream",
     "text": [
      "19 -th graph of size  33083 duration = 4435 s\n"
     ]
    },
    {
     "name": "stderr",
     "output_type": "stream",
     "text": [
      "\r",
      " 50%|█████     | 12/24 [1:16:23<1:22:20, 411.70s/it]"
     ]
    },
    {
     "name": "stdout",
     "output_type": "stream",
     "text": [
      "20 -th graph of size  29821 duration = 4583 s\n"
     ]
    },
    {
     "name": "stderr",
     "output_type": "stream",
     "text": [
      "\r",
      " 54%|█████▍    | 13/24 [1:21:46<1:10:35, 385.01s/it]"
     ]
    },
    {
     "name": "stdout",
     "output_type": "stream",
     "text": [
      "21 -th graph of size  37752 duration = 4906 s\n"
     ]
    },
    {
     "name": "stderr",
     "output_type": "stream",
     "text": [
      "\r",
      " 58%|█████▊    | 14/24 [1:24:43<53:42, 322.23s/it]  "
     ]
    },
    {
     "name": "stdout",
     "output_type": "stream",
     "text": [
      "22 -th graph of size  30718 duration = 5083 s\n"
     ]
    },
    {
     "name": "stderr",
     "output_type": "stream",
     "text": [
      "\r",
      " 62%|██████▎   | 15/24 [1:30:44<50:04, 333.80s/it]"
     ]
    },
    {
     "name": "stdout",
     "output_type": "stream",
     "text": [
      "23 -th graph of size  57732 duration = 5444 s\n"
     ]
    },
    {
     "name": "stderr",
     "output_type": "stream",
     "text": [
      "\r",
      " 67%|██████▋   | 16/24 [1:33:48<38:29, 288.68s/it]"
     ]
    },
    {
     "name": "stdout",
     "output_type": "stream",
     "text": [
      "24 -th graph of size  47206 duration = 5628 s\n"
     ]
    },
    {
     "name": "stderr",
     "output_type": "stream",
     "text": [
      "\r",
      " 71%|███████   | 17/24 [1:39:25<35:23, 303.31s/it]"
     ]
    },
    {
     "name": "stdout",
     "output_type": "stream",
     "text": [
      "25 -th graph of size  31703 duration = 5965 s\n"
     ]
    },
    {
     "name": "stderr",
     "output_type": "stream",
     "text": [
      "\r",
      " 75%|███████▌  | 18/24 [1:46:43<34:23, 343.84s/it]"
     ]
    },
    {
     "name": "stdout",
     "output_type": "stream",
     "text": [
      "26 -th graph of size  64863 duration = 6403 s\n"
     ]
    },
    {
     "name": "stderr",
     "output_type": "stream",
     "text": [
      "\r",
      " 79%|███████▉  | 19/24 [1:47:29<21:11, 254.30s/it]"
     ]
    },
    {
     "name": "stdout",
     "output_type": "stream",
     "text": [
      "27 -th graph of size  9317 duration = 6449 s\n"
     ]
    },
    {
     "name": "stderr",
     "output_type": "stream",
     "text": [
      "\r",
      " 83%|████████▎ | 20/24 [1:47:59<12:27, 186.92s/it]"
     ]
    },
    {
     "name": "stdout",
     "output_type": "stream",
     "text": [
      "28 -th graph of size  509 duration = 6479 s\n"
     ]
    },
    {
     "name": "stderr",
     "output_type": "stream",
     "text": [
      "\r",
      " 88%|████████▊ | 21/24 [1:56:39<14:20, 286.85s/it]"
     ]
    },
    {
     "name": "stdout",
     "output_type": "stream",
     "text": [
      "29 -th graph of size  89235 duration = 6999 s\n"
     ]
    },
    {
     "name": "stderr",
     "output_type": "stream",
     "text": [
      "\r",
      " 92%|█████████▏| 22/24 [1:59:37<08:28, 254.13s/it]"
     ]
    },
    {
     "name": "stdout",
     "output_type": "stream",
     "text": [
      "30 -th graph of size  29922 duration = 7177 s\n"
     ]
    },
    {
     "name": "stderr",
     "output_type": "stream",
     "text": [
      "\r",
      " 96%|█████████▌| 23/24 [2:02:13<03:44, 224.80s/it]"
     ]
    },
    {
     "name": "stdout",
     "output_type": "stream",
     "text": [
      "31 -th graph of size  9747 duration = 7333 s\n"
     ]
    },
    {
     "name": "stderr",
     "output_type": "stream",
     "text": [
      "100%|██████████| 24/24 [2:06:12<00:00, 315.51s/it]"
     ]
    },
    {
     "name": "stdout",
     "output_type": "stream",
     "text": [
      "32 -th graph of size  35974 duration = 7572 s\n"
     ]
    },
    {
     "name": "stderr",
     "output_type": "stream",
     "text": [
      "\n"
     ]
    }
   ],
   "source": [
    "#extract graphs from names and save their edgelist in output\n",
    "\n",
    "s = time.time()\n",
    "\n",
    "n = len(names)\n",
    "\n",
    "last = max([0,1,2,3,4,5,6,7,8])+1 #last city that was extracted just before code broke\n",
    "#data = []\n",
    "for i in tqdm(range(last,n)): \n",
    "    #search city graph\n",
    "    city_name = names[i] +', China'\n",
    "    if names[i] == 'Taipei': #exception of Taiwan, osm doesn't find results for Taipei, China but for Taipei, Taiwan\n",
    "        city_name = names[i] +', Taiwan'\n",
    "    G = osmnx.graph_from_place(city_name, network_type='all')\n",
    "    G = nx.Graph(G)\n",
    "    G = nx.relabel.convert_node_labels_to_integers(G)\n",
    "    data.append(G)\n",
    "    \n",
    "    #store edgelist txt\n",
    "    name = \"/edge_list_chinese_city\"+str(i)+\".txt\"\n",
    "    nx.write_edgelist(data[i], output_path + name, data = False)\n",
    "    print(i,\"-th graph of size \",len(data[i]),\"duration =\",int(time.time()-s),\"s\")"
   ]
  },
  {
   "cell_type": "code",
   "execution_count": 50,
   "id": "humanitarian-audience",
   "metadata": {},
   "outputs": [
    {
     "ename": "TypeError",
     "evalue": "expected str, bytes or os.PathLike object, not tuple",
     "output_type": "error",
     "traceback": [
      "\u001b[0;31m---------------------------------------------------------------------------\u001b[0m",
      "\u001b[0;31mTypeError\u001b[0m                                 Traceback (most recent call last)",
      "\u001b[0;32m<ipython-input-50-d9a94f3c04a5>\u001b[0m in \u001b[0;36m<module>\u001b[0;34m\u001b[0m\n\u001b[1;32m      7\u001b[0m \u001b[0;32mfor\u001b[0m \u001b[0mi\u001b[0m \u001b[0;32min\u001b[0m \u001b[0mrange\u001b[0m\u001b[0;34m(\u001b[0m\u001b[0mn\u001b[0m\u001b[0;34m)\u001b[0m\u001b[0;34m:\u001b[0m\u001b[0;34m\u001b[0m\u001b[0;34m\u001b[0m\u001b[0m\n\u001b[1;32m      8\u001b[0m     \u001b[0mopen_path\u001b[0m \u001b[0;34m=\u001b[0m \u001b[0moutput_path\u001b[0m \u001b[0;34m+\u001b[0m \u001b[0;34m\"\\edge_list_chinese_city\"\u001b[0m\u001b[0;34m+\u001b[0m\u001b[0mstr\u001b[0m\u001b[0;34m(\u001b[0m\u001b[0mi\u001b[0m\u001b[0;34m)\u001b[0m\u001b[0;34m+\u001b[0m\u001b[0;34m\".csv\"\u001b[0m\u001b[0;34m,\u001b[0m\u001b[0;34m\u001b[0m\u001b[0;34m\u001b[0m\u001b[0m\n\u001b[0;32m----> 9\u001b[0;31m     \u001b[0mtext\u001b[0m \u001b[0;34m=\u001b[0m \u001b[0mopen\u001b[0m\u001b[0;34m(\u001b[0m\u001b[0mopen_path\u001b[0m\u001b[0;34m,\u001b[0m \u001b[0;34m'r'\u001b[0m\u001b[0;34m)\u001b[0m\u001b[0;34m\u001b[0m\u001b[0;34m\u001b[0m\u001b[0m\n\u001b[0m\u001b[1;32m     10\u001b[0m     \u001b[0mprint\u001b[0m\u001b[0;34m(\u001b[0m\u001b[0mopen_path\u001b[0m\u001b[0;34m)\u001b[0m\u001b[0;34m\u001b[0m\u001b[0;34m\u001b[0m\u001b[0m\n\u001b[1;32m     11\u001b[0m     \u001b[0mreader\u001b[0m \u001b[0;34m=\u001b[0m \u001b[0mcsv\u001b[0m\u001b[0;34m.\u001b[0m\u001b[0mreader\u001b[0m\u001b[0;34m(\u001b[0m\u001b[0mtext\u001b[0m\u001b[0;34m,\u001b[0m \u001b[0mdelimiter\u001b[0m\u001b[0;34m=\u001b[0m\u001b[0;34m'\\n'\u001b[0m\u001b[0;34m)\u001b[0m\u001b[0;34m\u001b[0m\u001b[0;34m\u001b[0m\u001b[0m\n",
      "\u001b[0;31mTypeError\u001b[0m: expected str, bytes or os.PathLike object, not tuple"
     ]
    }
   ],
   "source": [
    "#open edgelist from txt and plot it in graph_tool\n",
    "\n",
    "def string_to_list(string):\n",
    "    \"\"\"given a string of two elements, returns each element in a list\"\"\"\n",
    "    return [int(string.split(' ')[0]), int(string.split(' ')[1])]\n",
    "\n",
    "for i in range(n):\n",
    "    open_path = output_path + \"\\edge_list_chinese_city\"+str(i)+\".csv\",\n",
    "    text = open(open_path, 'r')\n",
    "    print(open_path)\n",
    "    reader = csv.reader(text, delimiter='\\n')\n",
    "    elist = [string_to_list(row[0]) for row in reader]\n",
    "    G = gt.Graph(directed = False)\n",
    "    G.add_edge_list(elist)\n",
    "    #gtd.graph_draw(G, output_size = (300,300))"
   ]
  },
  {
   "cell_type": "code",
   "execution_count": null,
   "id": "executive-uruguay",
   "metadata": {},
   "outputs": [],
   "source": []
  },
  {
   "cell_type": "code",
   "execution_count": 17,
   "id": "impaired-distribution",
   "metadata": {},
   "outputs": [
    {
     "name": "stdout",
     "output_type": "stream",
     "text": [
      "duration = 48.90334701538086\n"
     ]
    },
    {
     "name": "stderr",
     "output_type": "stream",
     "text": [
      "<ipython-input-17-38f551024779>:2: ResourceWarning: unclosed file <_io.BufferedWriter name='/Users/endingalaporte/Desktop/omnx_cities/output/paris_graph-tool.png'>\n",
      "  gtd.graph_draw(G, output_size = (1000, 1000), output = \"/Users/endingalaporte/Desktop/omnx_cities/output/paris_graph-tool.png\")\n",
      "ResourceWarning: Enable tracemalloc to get the object allocation traceback\n"
     ]
    }
   ],
   "source": [
    "#compare the graph size for three network_type = walk, drive, all\n",
    "#4 mins\n",
    "\n",
    "s = time.time()\n",
    "G = osmnx.graph_from_place(\"paris\", network_type='walk')\n",
    "G = nx.Graph(G)\n",
    "G = nx.relabel.convert_node_labels_to_integers(G)\n",
    "e_walk, v_walk = G.number_of_edges(), G.number_of_nodes()\n",
    "print(\"step 1 d=\", time.time()-s)\n",
    "G = osmnx.graph_from_place(\"paris\", network_type='drive')\n",
    "G = nx.Graph(G)\n",
    "G = nx.relabel.convert_node_labels_to_integers(G)\n",
    "e_drive, v_drive =  G.number_of_edges(), G.number_of_nodes()\n",
    "print(\"step 2 d=\", time.time()-s)\n",
    "G = osmnx.graph_from_place(\"paris\", network_type='all')\n",
    "G = nx.Graph(G)\n",
    "G = nx.relabel.convert_node_labels_to_integers(G)\n",
    "e_all, v_all =  G.number_of_edges(), G.number_of_nodes()\n",
    "print(\"step 3 d=\", time.time()-s)\n",
    "e_wda = np.array([e_walk, e_drive, e_all])\n",
    "v_wda = np.array([v_walk, v_drive, v_all])\n",
    "plt.plot([e_walk, v_walk, e_drive, v_drive, e_all, v_all])\n",
    "\n",
    "e_all, e_walk + e_drive\n",
    "v_all, v_walk + v_drive\n",
    "\n",
    "plt.subplots()\n",
    "plt.title(\"number of edges for network_type = walk, drive and all\")\n",
    "plt.plot(e_wda)\n",
    "plt.subplots()\n",
    "plt.title(\"number of vertices for network_type = walk, drive and all\")\n",
    "plt.plot(v_wda)\n",
    "\n",
    "\n",
    "#plot the degree histogram for each graph of the dataset\n",
    "for i in range(n):\n",
    "    degree_sequence = sorted([d for n, d in nx.Graph(data[i]).degree()], reverse=True)  # degree sequence\n",
    "    a = np.histogram(degree_sequence)[0]\n",
    "    plt.plot(a)\n",
    "\n",
    "#plot the i-th graph of the dataset and save it\n",
    "\n",
    "s = time.time()\n",
    "i = 0\n",
    "G = data[i] #graph\n",
    "name = str(i) #graph name\n",
    "gtd.graph_draw(G, output_size = (1000, 1000), output = output + \"\\chinese_city\"+str(i)+\"graph.png\")\n",
    "print(\"duration =\", time.time()-s)\n",
    "\n",
    "#querry a geometry city and plot it\n",
    "s = time.time()\n",
    "gdf = osmnx.geometries.geometries_from_place(\"Paris\", tags = {'highway': True})\n",
    "output = '/Users/endingalaporte/Desktop/omnx_cities/output/'\n",
    "\n",
    "gdf.plot(figsize = (30,30), markersize = False)\n",
    "plt.savefig(output+'paris.svg')\n",
    "print(time.time()-s)"
   ]
  },
  {
   "cell_type": "code",
   "execution_count": 48,
   "id": "headed-stranger",
   "metadata": {},
   "outputs": [
    {
     "data": {
      "text/plain": [
       "2.1033333333333335"
      ]
     },
     "execution_count": 48,
     "metadata": {},
     "output_type": "execute_result"
    }
   ],
   "source": []
  },
  {
   "cell_type": "code",
   "execution_count": null,
   "id": "animated-renaissance",
   "metadata": {},
   "outputs": [],
   "source": []
  }
 ],
 "metadata": {
  "kernelspec": {
   "display_name": "Python 3",
   "language": "python",
   "name": "python3"
  },
  "language_info": {
   "codemirror_mode": {
    "name": "ipython",
    "version": 3
   },
   "file_extension": ".py",
   "mimetype": "text/x-python",
   "name": "python",
   "nbconvert_exporter": "python",
   "pygments_lexer": "ipython3",
   "version": "3.8.5"
  }
 },
 "nbformat": 4,
 "nbformat_minor": 5
}
